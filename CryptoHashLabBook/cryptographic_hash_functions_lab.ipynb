{
 "cells": [
  {
   "cell_type": "code",
   "execution_count": null,
   "metadata": {},
   "outputs": [],
   "source": [
    "import hashlib\n",
    "import uuid"
   ]
  },
  {
   "cell_type": "markdown",
   "metadata": {},
   "source": [
    "# Hash Functions\n",
    "\n",
    "A hash function $H$ accepts a variable-length block of data $M$  as input and produces a fixed-size hash value $h =  H(M)$. A “good” hash function has the property that the results of applying the function to a large set of inputs will produce outputs that are evenly distributed and apparently random. In general terms, the principal object of a\n",
    "hash function is data integrity. A change to any bit or bits in M  results, with high probability, in a change to the hash code.\n",
    "\n",
    "<img src='hash_functions_images/crypto_hash_function.png' width=50%>\n",
    "\n",
    "The kind of hash function needed for security applications is referred to as a cryptographic hash function . A cryptographic hash function is an algorithm for which it is computationally infeasible (because no attack is significantly more efficient than brute force) to find either \n",
    "\n",
    "     a. a data object that maps to a pre-specified hash result (the one-way property) or \n",
    "     b. two data objects that map to the same hash result (the collision-free property). \n",
    "\n",
    "Because of these characteristics, hash functions are often used to determine whether or not data has changed."
   ]
  },
  {
   "cell_type": "markdown",
   "metadata": {},
   "source": [
    "## Secure Hash Algorithm (SHA)\n",
    "In recent years, the most widely used hash function has been the Secure Hash Algorithm (SHA). SHA was developed\n",
    "by the National Institute of Standards and Technology (NIST) and published as a federal information processing standard (FIPS 180) in 1993. When weaknesses were discovered in SHA, now known as SHA-0, a revised version was issued as FIPS 180-1 in 1995 and is referred to as SHA-1. SHA-1 produces a hash value of 160 bits. In 2002, NIST  defined three new versions of SHA, with hash value lengths of 256, 384, and 512 bits, known as SHA-256, SHA-384, and SHA-512, respectively. Collectively, these hash algorithms are known as SHA-2. These new versions have the same underlying structure and use the same types of modular arithmetic and logical binary operations as SHA-1.\n",
    "\n",
    "<img src='hash_functions_images/sha_comparision.png' width=50%>\n"
   ]
  },
  {
   "cell_type": "markdown",
   "metadata": {},
   "source": [
    "**Exercise:** Using the hashlib pakage (see: https://docs.python.org/3/library/hashlib.html), generate hash values for a given message using the SHA algorithms listed above. "
   ]
  },
  {
   "cell_type": "code",
   "execution_count": null,
   "metadata": {},
   "outputs": [],
   "source": [
    "# SHA-1\n",
    "\n",
    "message = b'Hello World'\n",
    "hash_object = None\n",
    "hex_dig = hash_object.hexdigest()\n",
    "print('sanity: ', hex_dig == '0a4d55a8d778e5022fab701977c5d840bbc486d0')\n",
    "print('Message Digest Size: ', len(hex_dig) * 4)"
   ]
  },
  {
   "cell_type": "code",
   "execution_count": null,
   "metadata": {},
   "outputs": [],
   "source": [
    "# SHA-224\n",
    "message = b'Hello World'\n",
    "hash_object = None\n",
    "hex_dig = None\n",
    "print('sanity: ', hex_dig == 'c4890faffdb0105d991a461e668e276685401b02eab1ef4372795047')\n",
    "print('Message Digest Size: ', len(hex_dig) * 4)"
   ]
  },
  {
   "cell_type": "code",
   "execution_count": null,
   "metadata": {},
   "outputs": [],
   "source": [
    "# SHA-256\n",
    "message = b'Hello World'\n",
    "hash_object = None\n",
    "hex_dig = None\n",
    "print('sanity: ', hex_dig == 'a591a6d40bf420404a011733cfb7b190d62c65bf0bcda32b57b277d9ad9f146e')\n",
    "print('Message Digest Size: ', len(hex_dig) * 4)"
   ]
  },
  {
   "cell_type": "code",
   "execution_count": null,
   "metadata": {},
   "outputs": [],
   "source": [
    "# SHA-384\n",
    "message = b'Hello World'\n",
    "hash_object = None\n",
    "hex_dig = None\n",
    "print('sanity: ', hex_dig == '99514329186b2f6ae4a1329e7ee6c610a729636335174ac6b740f9028396fcc803d0e93863a7c3d90f86beee782f4f3f')\n",
    "print('Message Digest Size: ', len(hex_dig) * 4)"
   ]
  },
  {
   "cell_type": "code",
   "execution_count": null,
   "metadata": {},
   "outputs": [],
   "source": [
    "# SHA-512\n",
    "message = b'Hello World'\n",
    "hash_object = None\n",
    "hex_dig = None\n",
    "print('sanity: ', hex_dig == '2c74fd17edafd80e8447b0d46741ee243b7eb74dd2149a0ab1b9246fb30382f27e853d8585719e0e67cbda0daa8f51671064615d645ae27acb15bfb1447f459b')\n",
    "print('Message Digest Size: ', len(hex_dig) * 4)"
   ]
  },
  {
   "cell_type": "markdown",
   "metadata": {},
   "source": [
    "## Application: Unix Password Scheme\n",
    "A widely used password security technique is the use of hashed passwords and a salt value. This scheme is found on virtually all UNIX variants as well as on a number of other operating systems. The following procedure is employed.\n",
    "\n",
    "\n",
    "<img src='hash_functions_images/unix_password_scheme.png' width=50%>\n",
    "\n",
    "\n",
    "\n",
    "To load a new password into the system, the user selects or is assigned a password. This password is combined with a fixed-length salt value which is a pseudorandom or random number. The password and salt serve as inputs to a\n",
    "hashing algorithm to produce a fixed-length hash code. The hashed password is then stored, together with a plaintext copy of the salt, in the password file for the corresponding user ID. The hashed password method has been shown to be secure against a variety of cryptanalytic attacks.\n",
    "\n",
    "When a user attempts to log on to a UNIX system, the user provides an ID and a password. The operating system uses the ID to index into the  password file and retrieve the plaintext salt and the encrypted password. The salt and user-supplied password are used as input to the encryption routine. If the result matches the stored value, the password is accepted.\n",
    "\n",
    "The salt serves three purposes:\n",
    "\n",
    "-  It prevents duplicate passwords from being visible in the password file. Even if two users choose the same password, those passwords will be assigned different salt values. Hence, the hashed passwords of the two users will differ.\n",
    "\n",
    "- It greatly increases the difficulty of offline dictionary attacks. For a salt of length $b$ bits, the number of possible passwords is increased by a factor of $2^b$, increasing the difficulty of guessing a password in a dictionary attack.\n",
    "\n",
    "- It becomes nearly impossible to find out whether a person with passwords on two or more systems has used the same password on all of them.\n",
    "\n"
   ]
  },
  {
   "cell_type": "markdown",
   "metadata": {},
   "source": [
    "**Exercise:** Implement `load_new_password()` to create and store password for a new user. Use SHA-256 for the hash function."
   ]
  },
  {
   "cell_type": "code",
   "execution_count": null,
   "metadata": {},
   "outputs": [],
   "source": [
    "def load_new_password(user_name, password):\n",
    "    \n",
    "    # generate salt using a random number (we use uuid package) \n",
    "    salt = uuid.uuid4().hex\n",
    "    \n",
    "    # generate hashed password using SHA 256\n",
    "    hash_code = None\n",
    "    \n",
    "    # make a dictioanry for a database\n",
    "    ret = {user_name: {'SALT': None,\n",
    "                        'HASH_CODE': None\n",
    "                      }\n",
    "          }\n",
    "    \n",
    "    return ret "
   ]
  },
  {
   "cell_type": "markdown",
   "metadata": {},
   "source": [
    "**Exercise:** Implement `verify_password()` to check whether the password entered for the user is correct."
   ]
  },
  {
   "cell_type": "code",
   "execution_count": null,
   "metadata": {},
   "outputs": [],
   "source": [
    "def verify_password(user_name, password, password_database):\n",
    "    salt = None\n",
    "    checker = None\n",
    "    return password_database[None][None].hexdigest()  == checker.hexdigest() \n",
    "    "
   ]
  },
  {
   "cell_type": "code",
   "execution_count": null,
   "metadata": {},
   "outputs": [],
   "source": [
    "user_name = 'Bob'\n",
    "password = 'hello_bob'\n",
    "password_database = load_new_password(user_name, password)\n",
    "is_valid = verify_password(user_name, password, password_database)\n",
    "print('Valid password: ', is_valid)\n",
    "\n",
    "user_name = 'Bob'\n",
    "password = 'hello_bob_12312'\n",
    "is_valid = verify_password(user_name, password, password_database)\n",
    "print('Valid password: ', is_valid)\n"
   ]
  }
 ],
 "metadata": {
  "kernelspec": {
   "display_name": "Python 3",
   "language": "python",
   "name": "python3"
  },
  "language_info": {
   "codemirror_mode": {
    "name": "ipython",
    "version": 3
   },
   "file_extension": ".py",
   "mimetype": "text/x-python",
   "name": "python",
   "nbconvert_exporter": "python",
   "pygments_lexer": "ipython3",
   "version": "3.7.0"
  }
 },
 "nbformat": 4,
 "nbformat_minor": 2
}
